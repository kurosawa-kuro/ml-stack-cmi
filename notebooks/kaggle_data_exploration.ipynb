{
 "cells": [
  {
   "cell_type": "markdown",
   "metadata": {},
   "source": [
    "# 🔍 CMI Data Exploration - Find Correct Paths\n",
    "\n",
    "This notebook explores the available data in Kaggle environment to find correct file paths."
   ]
  },
  {
   "cell_type": "code",
   "execution_count": null,
   "metadata": {},
   "outputs": [],
   "source": [
    "import os\n",
    "import pandas as pd\n",
    "import numpy as np\n",
    "\n",
    "print(\"🔍 Exploring Kaggle data directory...\")\n",
    "print(\"Available input directories:\")\n",
    "if os.path.exists('/kaggle/input'):\n",
    "    for item in os.listdir('/kaggle/input'):\n",
    "        print(f\"  {item}\")\n",
    "else:\n",
    "    print(\"  /kaggle/input not found\")"
   ]
  },
  {
   "cell_type": "code",
   "execution_count": null,
   "metadata": {},
   "outputs": [],
   "source": [
    "# Check the CMI competition directory\n",
    "cmi_path = '/kaggle/input/cmi-detect-behavior-with-sensor-data'\n",
    "if os.path.exists(cmi_path):\n",
    "    print(f\"📁 Files in {cmi_path}:\")\n",
    "    for item in os.listdir(cmi_path):\n",
    "        file_path = os.path.join(cmi_path, item)\n",
    "        if os.path.isfile(file_path):\n",
    "            size = os.path.getsize(file_path) / (1024*1024)  # MB\n",
    "            print(f\"  {item} ({size:.1f} MB)\")\n",
    "        else:\n",
    "            print(f\"  {item} (directory)\")\n",
    "else:\n",
    "    print(f\"❌ {cmi_path} not found\")\n",
    "    print(\"Checking alternative paths...\")\n",
    "    \n",
    "    # Try common alternatives\n",
    "    alternatives = [\n",
    "        '/kaggle/input/cmi-detect-behavior-with-sensor-data',\n",
    "        '/kaggle/input/cmi-bfrb-detection',\n",
    "        '/kaggle/input/cmi-sensor-data'\n",
    "    ]\n",
    "    \n",
    "    for path in alternatives:\n",
    "        if os.path.exists(path):\n",
    "            print(f\"✅ Found: {path}\")\n",
    "            for item in os.listdir(path):\n",
    "                print(f\"  {item}\")\n",
    "            break"
   ]
  },
  {
   "cell_type": "code",
   "execution_count": null,
   "metadata": {},
   "outputs": [],
   "source": [
    "# Try to load data with different file extensions\n",
    "data_path = '/kaggle/input/cmi-detect-behavior-with-sensor-data'\n",
    "\n",
    "file_formats = ['parquet', 'csv', 'feather']\n",
    "datasets = ['train', 'test', 'sample_submission']\n",
    "\n",
    "for dataset in datasets:\n",
    "    for fmt in file_formats:\n",
    "        file_path = f\"{data_path}/{dataset}.{fmt}\"\n",
    "        if os.path.exists(file_path):\n",
    "            print(f\"✅ Found: {file_path}\")\n",
    "            try:\n",
    "                if fmt == 'parquet':\n",
    "                    df = pd.read_parquet(file_path)\n",
    "                elif fmt == 'csv':\n",
    "                    df = pd.read_csv(file_path)\n",
    "                elif fmt == 'feather':\n",
    "                    df = pd.read_feather(file_path)\n",
    "                    \n",
    "                print(f\"  Shape: {df.shape}\")\n",
    "                print(f\"  Columns: {list(df.columns[:10])}...\")\n",
    "                print(f\"  Sample:\\n{df.head(3)}\")\n",
    "                print()\n",
    "                \n",
    "            except Exception as e:\n",
    "                print(f\"  ❌ Error reading: {e}\")\n",
    "        else:\n",
    "            print(f\"❌ Not found: {file_path}\")"
   ]
  },
  {
   "cell_type": "code",
   "execution_count": null,
   "metadata": {},
   "outputs": [],
   "source": [
    "# If we found the data, show detailed structure\n",
    "try:\n",
    "    # Try the most likely format\n",
    "    train_df = pd.read_csv('/kaggle/input/cmi-detect-behavior-with-sensor-data/train.csv')\n",
    "    test_df = pd.read_csv('/kaggle/input/cmi-detect-behavior-with-sensor-data/test.csv')\n",
    "    \n",
    "    print(\"📊 Data structure confirmed:\")\n",
    "    print(f\"Train shape: {train_df.shape}\")\n",
    "    print(f\"Test shape: {test_df.shape}\")\n",
    "    \n",
    "    print(f\"\\nTrain columns: {list(train_df.columns)}\")\n",
    "    print(f\"\\nTest columns: {list(test_df.columns)}\")\n",
    "    \n",
    "    # Check for behavior/target column\n",
    "    if 'behavior' in train_df.columns:\n",
    "        print(f\"\\nBehavior values:\")\n",
    "        print(train_df['behavior'].value_counts())\n",
    "    \n",
    "    if 'gesture' in train_df.columns:\n",
    "        print(f\"\\nGesture values:\")\n",
    "        print(train_df['gesture'].value_counts())\n",
    "        \n",
    "except Exception as e:\n",
    "    print(f\"❌ Could not load data: {e}\")\n",
    "    print(\"\\nTrying parquet format...\")\n",
    "    \n",
    "    try:\n",
    "        train_df = pd.read_parquet('/kaggle/input/cmi-detect-behavior-with-sensor-data/train.parquet')\n",
    "        test_df = pd.read_parquet('/kaggle/input/cmi-detect-behavior-with-sensor-data/test.parquet')\n",
    "        print(\"✅ Parquet format works!\")\n",
    "        print(f\"Train shape: {train_df.shape}\")\n",
    "        print(f\"Test shape: {test_df.shape}\")\n",
    "    except Exception as e2:\n",
    "        print(f\"❌ Parquet also failed: {e2}\")"
   ]
  }
 ],
 "metadata": {
  "kernelspec": {
   "display_name": "Python 3",
   "language": "python",
   "name": "python3"
  },
  "language_info": {
   "codemirror_mode": {
    "name": "ipython",
    "version": 3
   },
   "file_extension": ".py",
   "mimetype": "text/x-python",
   "name": "python",
   "nbconvert_exporter": "python",
   "pygments_lexer": "ipython3",
   "version": "3.10.12"
  }
 },
 "nbformat": 4,
 "nbformat_minor": 4
}