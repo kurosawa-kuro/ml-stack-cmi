{
 "cells": [
  {
   "cell_type": "markdown",
   "metadata": {},
   "source": [
    "# 📊 Kaggle Dataset Connection Guide\n",
    "\n",
    "## ⚠️ Dataset Not Connected\n",
    "The `/kaggle/input` directory is empty, which means you need to connect the competition dataset.\n",
    "\n",
    "## 🔧 How to Connect Dataset in Kaggle Notebook\n",
    "\n",
    "### Step 1: Add Dataset\n",
    "1. In your Kaggle Notebook, click **\"+ Add data\"** on the right panel\n",
    "2. Search for **\"CMI - Detect Behavior with Sensor Data\"**\n",
    "3. Click **\"Add\"** to connect the competition dataset\n",
    "\n",
    "### Step 2: Verify Connection\n",
    "After adding the dataset, run the cells below to verify the connection:"
   ]
  },
  {
   "cell_type": "code",
   "execution_count": null,
   "metadata": {},
   "outputs": [],
   "source": [
    "import os\n",
    "\n",
    "print(\"🔍 Checking dataset connection...\")\n",
    "\n",
    "# Check if competition dataset is connected\n",
    "competition_path = '/kaggle/input/cmi-detect-behavior-with-sensor-data'\n",
    "if os.path.exists(competition_path):\n",
    "    print(f\"✅ Competition dataset connected: {competition_path}\")\n",
    "    \n",
    "    # List files\n",
    "    files = os.listdir(competition_path)\n",
    "    print(f\"\\n📁 Available files:\")\n",
    "    for file in sorted(files):\n",
    "        file_path = os.path.join(competition_path, file)\n",
    "        if os.path.isfile(file_path):\n",
    "            size_mb = os.path.getsize(file_path) / (1024*1024)\n",
    "            print(f\"  📄 {file} ({size_mb:.1f} MB)\")\n",
    "        else:\n",
    "            print(f\"  📂 {file}/\")\nelse:\n",
    "    print(f\"❌ Dataset not connected: {competition_path}\")\n",
    "    print(\"\\n🔧 To fix this:\")\n",
    "    print(\"1. Click '+ Add data' in the right panel\")\n",
    "    print(\"2. Search for 'CMI - Detect Behavior with Sensor Data'\")\n",
    "    print(\"3. Click 'Add' to connect the dataset\")\n",
    "    print(\"4. Re-run this cell to verify\")"
   ]
  },
  {
   "cell_type": "code",
   "execution_count": null,
   "metadata": {},
   "outputs": [],
   "source": [
    "# Alternative: Check all available datasets\n",
    "print(\"\\n🔍 All available datasets in /kaggle/input:\")\n",
    "\n",
    "if os.path.exists('/kaggle/input'):\n",
    "    datasets = os.listdir('/kaggle/input')\n",
    "    if datasets:\n",
    "        for dataset in sorted(datasets):\n",
    "            dataset_path = os.path.join('/kaggle/input', dataset)\n",
    "            print(f\"\\n📦 Dataset: {dataset}\")\n",
    "            try:\n",
    "                files = os.listdir(dataset_path)\n",
    "                for file in sorted(files):\n",
    "                    file_path = os.path.join(dataset_path, file)\n",
    "                    if os.path.isfile(file_path):\n",
    "                        size_mb = os.path.getsize(file_path) / (1024*1024)\n",
    "                        print(f\"  📄 {file} ({size_mb:.1f} MB)\")\n",
    "            except PermissionError:\n",
    "                print(f\"  ❌ Permission denied\")\n",
    "    else:\n",
    "        print(\"❌ No datasets connected\")\n",
    "        print(\"\\n📝 You need to add the competition dataset:\")\n",
    "        print(\"   Competition: CMI - Detect Behavior with Sensor Data\")\n",
    "        print(\"   URL: https://www.kaggle.com/competitions/cmi-detect-behavior-with-sensor-data\")\nelse:\n",
    "    print(\"❌ /kaggle/input directory not found\")"
   ]
  },
  {
   "cell_type": "markdown",
   "metadata": {},
   "source": [
    "## 🎯 Once Dataset is Connected\n",
    "\n",
    "After connecting the dataset, you should see files like:\n",
    "- `train.csv` or `train.parquet`\n",
    "- `test.csv` or `test.parquet` \n",
    "- `sample_submission.csv`\n",
    "- Possibly `train_demographics.csv` and `test_demographics.csv`\n",
    "\n",
    "Then you can proceed with the submission notebook."
   ]
  },
  {
   "cell_type": "code",
   "execution_count": null,
   "metadata": {},
   "outputs": [],
   "source": [
    "# Quick test load once dataset is connected\n",
    "import pandas as pd\n",
    "\n",
    "try:\n",
    "    # Try to load train data\n",
    "    train_path = '/kaggle/input/cmi-detect-behavior-with-sensor-data/train.csv'\n",
    "    if os.path.exists(train_path):\n",
    "        print(f\"🧪 Testing data load...\")\n",
    "        df = pd.read_csv(train_path, nrows=5)  # Load only first 5 rows\n",
    "        print(f\"✅ Successfully loaded train data\")\n",
    "        print(f\"   Shape: {df.shape}\")\n",
    "        print(f\"   Columns: {list(df.columns)}\")\n",
    "        print(f\"\\n📋 Sample data:\")\n",
    "        print(df)\n",
    "    else:\n",
    "        print(f\"❌ Train file not found: {train_path}\")\n",
    "        \n",
    "        # Try alternative formats\n",
    "        alt_formats = ['train.parquet', 'train.feather']\n",
    "        for fmt in alt_formats:\n",
    "            alt_path = f'/kaggle/input/cmi-detect-behavior-with-sensor-data/{fmt}'\n",
    "            if os.path.exists(alt_path):\n",
    "                print(f\"✅ Found alternative: {alt_path}\")\n",
    "                break\n",
    "        \nexcept Exception as e:\n",
    "    print(f\"❌ Error loading data: {e}\")\n",
    "    print(\"This is expected if the dataset is not connected yet.\")"
   ]
  },
  {
   "cell_type": "markdown",
   "metadata": {},
   "source": [
    "## 🚀 Next Steps\n",
    "\n",
    "1. **Connect Dataset**: Use \"+ Add data\" to connect the CMI competition dataset\n",
    "2. **Verify Connection**: Re-run the cells above to confirm files are available\n",
    "3. **Run Submission**: Use the universal submission notebook once data is connected\n",
    "\n",
    "### Expected File Structure After Connection:\n",
    "```\n",
    "/kaggle/input/cmi-detect-behavior-with-sensor-data/\n",
    "├── train.csv (or .parquet)\n",
    "├── test.csv (or .parquet)\n",
    "├── sample_submission.csv\n",
    "├── train_demographics.csv (optional)\n",
    "└── test_demographics.csv (optional)\n",
    "```"
   ]
  }
 ],
 "metadata": {
  "kernelspec": {
   "display_name": "Python 3",
   "language": "python",
   "name": "python3"
  },
  "language_info": {
   "codemirror_mode": {
    "name": "ipython",
    "version": 3
   },
   "file_extension": ".py",
   "mimetype": "text/x-python",
   "name": "python",
   "nbconvert_exporter": "python",
   "pygments_lexer": "ipython3",
   "version": "3.10.12"
  }
 },
 "nbformat": 4,
 "nbformat_minor": 4
}