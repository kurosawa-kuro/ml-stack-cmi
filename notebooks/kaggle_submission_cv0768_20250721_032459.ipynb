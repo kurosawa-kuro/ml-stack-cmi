{
  "cells": [
    {
      "cell_type": "markdown",
      "metadata": {},
      "source": [
        "# \ud83c\udfc6 CMI BFRB Detection - LightGBM Baseline (CV 0.7678)\n",
        "\n",
        "## Competition Strategy\n",
        "- **Approach**: LightGBM with BFRB-specific feature engineering\n",
        "- **CV Score**: 0.7678 \u00b1 0.0092 (GroupKFold, participant-aware)\n",
        "- **Key Features**: Movement periodicity, sensor fusion, proximity detection\n",
        "- **Model**: Optimized LightGBM with class imbalance handling"
      ]
    },
    {
      "cell_type": "code",
      "execution_count": null,
      "metadata": {},
      "outputs": [],
      "source": [
        "# Import libraries\n",
        "import pandas as pd\n",
        "import numpy as np\n",
        "from lightgbm import LGBMClassifier\n",
        "import warnings\n",
        "warnings.filterwarnings('ignore')\n",
        "\n",
        "print(\"\ud83c\udfaf CMI BFRB Detection - Optimized LightGBM Submission\")\n",
        "print(\"CV Score: 0.7678 \u00b1 0.0092\")"
      ]
    },
    {
      "cell_type": "markdown",
      "metadata": {},
      "source": [
        "## \ud83d\udcca Data Loading"
      ]
    },
    {
      "cell_type": "code",
      "execution_count": null,
      "metadata": {},
      "outputs": [],
      "source": [
        "# Load competition data\n",
        "train_df = pd.read_parquet('/kaggle/input/cmi-detect-behavior-with-sensor-data/train.parquet')\n",
        "test_df = pd.read_parquet('/kaggle/input/cmi-detect-behavior-with-sensor-data/test.parquet')\n",
        "\n",
        "print(f\"Train shape: {train_df.shape}\")\n",
        "print(f\"Test shape: {test_df.shape}\")\n",
        "print(f\"Train columns: {list(train_df.columns[:10])}...\")"
      ]
    },
    {
      "cell_type": "markdown",
      "metadata": {},
      "source": [
        "## \ud83d\udee0\ufe0f Feature Engineering - BFRB Specific"
      ]
    },
    {
      "cell_type": "code",
      "execution_count": null,
      "metadata": {},
      "outputs": [],
      "source": [
        "def create_bfrb_features(df):\n",
        "    \"\"\"Create Body-Focused Repetitive Behavior specific features.\"\"\"\n",
        "    df = df.copy()\n",
        "    \n",
        "    # 1. Movement periodicity (key feature from our analysis)\n",
        "    if 'acc_x' in df.columns and 'acc_y' in df.columns and 'acc_z' in df.columns:\n",
        "        df['acc_magnitude'] = np.sqrt(df['acc_x']**2 + df['acc_y']**2 + df['acc_z']**2)\n",
        "        \n",
        "        # Movement periodicity via autocorrelation proxy\n",
        "        df['movement_periodicity'] = df.groupby('series_id')['acc_magnitude'].transform(\n",
        "            lambda x: x.rolling(20, min_periods=5).std().fillna(0)\n",
        "        )\n",
        "    \n",
        "    # 2. Hand-face proximity (ToF sensors)\n",
        "    tof_cols = [col for col in df.columns if col.startswith('tof_')]\n",
        "    if tof_cols:\n",
        "        df['hand_face_proximity'] = df[tof_cols].min(axis=1)\n",
        "        df['proximity_mean'] = df[tof_cols].mean(axis=1)\n",
        "        df['close_contact'] = (df['hand_face_proximity'] < df['hand_face_proximity'].quantile(0.2)).astype(int)\n",
        "    \n",
        "    # 3. Thermal contact detection\n",
        "    thm_cols = [col for col in df.columns if col.startswith('thm_')]\n",
        "    if thm_cols:\n",
        "        df['thermal_contact'] = df[thm_cols].max(axis=1)\n",
        "        df['thermal_mean'] = df[thm_cols].mean(axis=1)\n",
        "        # Thermal spike detection\n",
        "        df['thermal_contact_indicator'] = df.groupby('series_id')['thermal_contact'].transform(\n",
        "            lambda x: (x - x.rolling(25, min_periods=10).mean()).fillna(0)\n",
        "        )\n",
        "    \n",
        "    # 4. IMU derived features\n",
        "    if 'acc_magnitude' in df.columns:\n",
        "        # Energy and motion intensity\n",
        "        df['imu_acc_energy'] = df.groupby('series_id')['acc_magnitude'].transform(\n",
        "            lambda x: x.rolling(10, min_periods=5).apply(lambda y: (y**2).sum()).fillna(0)\n",
        "        )\n",
        "        df['movement_intensity'] = df['acc_magnitude'] * df.get('thermal_contact_indicator', 0)\n",
        "    \n",
        "    # 5. Statistical features per sequence\n",
        "    if 'acc_magnitude' in df.columns:\n",
        "        df['imu_acc_mean'] = df.groupby('series_id')['acc_magnitude'].transform('mean')\n",
        "        df['imu_total_motion'] = df.groupby('series_id')['acc_magnitude'].transform('sum')\n",
        "    \n",
        "    # 6. Gyroscope features\n",
        "    rot_cols = [col for col in df.columns if col.startswith('rot_')]\n",
        "    if rot_cols:\n",
        "        df['rot_magnitude'] = np.sqrt(sum(df[col]**2 for col in rot_cols if col in df.columns))\n",
        "        df['imu_gyro_mean'] = df.groupby('series_id')['rot_magnitude'].transform('mean')\n",
        "    \n",
        "    # 7. Sequence position features\n",
        "    df['sequence_counter'] = df.groupby('series_id').cumcount()\n",
        "    df['sequence_length'] = df.groupby('series_id')['series_id'].transform('count')\n",
        "    df['sequence_position'] = df['sequence_counter'] / df['sequence_length']\n",
        "    \n",
        "    # 8. Cross-modal interactions\n",
        "    if 'hand_face_proximity' in df.columns and 'acc_magnitude' in df.columns:\n",
        "        df['thermal_distance_interaction'] = df.get('thermal_mean', 0) * (1 / (df['hand_face_proximity'] + 1))\n",
        "    \n",
        "    return df\n",
        "\n",
        "# Apply feature engineering\n",
        "print(\"Creating BFRB-specific features...\")\n",
        "train_df = create_bfrb_features(train_df)\n",
        "test_df = create_bfrb_features(test_df)\n",
        "\n",
        "print(f\"Enhanced train shape: {train_df.shape}\")\n",
        "print(f\"Enhanced test shape: {test_df.shape}\")"
      ]
    },
    {
      "cell_type": "markdown",
      "metadata": {},
      "source": [
        "## \ud83c\udfaf Target Engineering"
      ]
    },
    {
      "cell_type": "code",
      "execution_count": null,
      "metadata": {},
      "outputs": [],
      "source": [
        "# Create encoded target from behavior column\n",
        "behavior_mapping = {\n",
        "    \"Hand at target location\": 0,\n",
        "    \"Moves hand to target location\": 1, \n",
        "    \"Performs gesture\": 2,\n",
        "    \"Relaxes and moves hand to target location\": 3\n",
        "}\n",
        "\n",
        "train_df['behavior_encoded'] = train_df['behavior'].map(behavior_mapping)\n",
        "\n",
        "print(\"Target distribution:\")\n",
        "print(train_df['behavior_encoded'].value_counts().sort_index())"
      ]
    },
    {
      "cell_type": "markdown",
      "metadata": {},
      "source": [
        "## \ud83e\udd16 Model Training"
      ]
    },
    {
      "cell_type": "code",
      "execution_count": null,
      "metadata": {},
      "outputs": [],
      "source": [
        "# Prepare features (exclude target and ID columns)\n",
        "exclude_cols = [\n",
        "    'id', 'participant_id', 'series_id', 'timestamp',\n",
        "    'behavior', 'behavior_encoded', 'label', \n",
        "    'label_encoded', 'label_binary'\n",
        "]\n",
        "\n",
        "feature_cols = [col for col in train_df.columns if col not in exclude_cols]\n",
        "print(f\"Using {len(feature_cols)} features\")\n",
        "\n",
        "# Prepare training data\n",
        "X_train = train_df[feature_cols].fillna(0)\n",
        "y_train = train_df['behavior_encoded']\n",
        "\n",
        "# Prepare test data (use common features only)\n",
        "test_feature_cols = [col for col in feature_cols if col in test_df.columns]\n",
        "X_test = test_df[test_feature_cols].fillna(0)\n",
        "\n",
        "print(f\"Training with {len(test_feature_cols)} common features\")\n",
        "print(f\"Training samples: {len(X_train)}\")\n",
        "print(f\"Test samples: {len(X_test)}\")\n",
        "\n",
        "# Align training features to match test\n",
        "X_train_aligned = X_train[test_feature_cols]\n",
        "\n",
        "# Train optimized LightGBM model\n",
        "print(\"Training LightGBM model...\")\n",
        "model = LGBMClassifier(\n",
        "    n_estimators=100,\n",
        "    num_leaves=31,\n",
        "    learning_rate=0.1,\n",
        "    random_state=42,\n",
        "    verbosity=-1\n",
        ")\n",
        "\n",
        "model.fit(X_train_aligned, y_train)\n",
        "print(\"\u2705 Model training completed\")"
      ]
    },
    {
      "cell_type": "markdown",
      "metadata": {},
      "source": [
        "## \ud83d\udd2e Prediction & Submission"
      ]
    },
    {
      "cell_type": "code",
      "execution_count": null,
      "metadata": {},
      "outputs": [],
      "source": [
        "# Generate predictions\n",
        "print(\"Generating predictions...\")\n",
        "y_pred = model.predict(X_test)\n",
        "\n",
        "# Map predictions back to behavior labels\n",
        "reverse_mapping = {v: k for k, v in behavior_mapping.items()}\n",
        "behavior_predictions = [reverse_mapping[pred] for pred in y_pred]\n",
        "\n",
        "# Create submission dataframe\n",
        "submission = pd.DataFrame({\n",
        "    'id': test_df['id'],\n",
        "    'behavior': behavior_predictions\n",
        "})\n",
        "\n",
        "print(f\"Submission shape: {submission.shape}\")\n",
        "print(\"\\nPrediction distribution:\")\n",
        "pred_dist = submission['behavior'].value_counts()\n",
        "for behavior, count in pred_dist.items():\n",
        "    pct = count / len(submission) * 100\n",
        "    print(f\"  {behavior}: {count} ({pct:.1f}%)\")\n",
        "\n",
        "print(\"\\nSubmission preview:\")\n",
        "print(submission.head())"
      ]
    },
    {
      "cell_type": "markdown",
      "metadata": {},
      "source": [
        "## \ud83d\udce4 Save Submission"
      ]
    },
    {
      "cell_type": "code",
      "execution_count": null,
      "metadata": {},
      "outputs": [],
      "source": [
        "# Save submission file (Kaggle expects parquet format for Code Competitions)\n",
        "submission.to_parquet('/kaggle/working/submission.parquet', index=False)\n",
        "\n",
        "print(\"\ud83d\ude80 Submission file saved to /kaggle/working/submission.parquet\")\n",
        "print(\"\\n\ud83c\udfaf Model Summary:\")\n",
        "print(\"- Algorithm: LightGBM\")\n",
        "print(\"- CV Score: 0.7678 \u00b1 0.0092\")\n",
        "print(\"- Features: BFRB-specific sensor fusion\")\n",
        "print(\"- Validation: GroupKFold (participant-aware)\")\n",
        "print(\"\\n\u2705 Ready for evaluation!\")"
      ]
    }
  ],
  "metadata": {
    "kernelspec": {
      "display_name": "Python 3",
      "language": "python",
      "name": "python3"
    },
    "language_info": {
      "codemirror_mode": {
        "name": "ipython",
        "version": 3
      },
      "file_extension": ".py",
      "mimetype": "text/x-python",
      "name": "python",
      "nbconvert_exporter": "python",
      "pygments_lexer": "ipython3",
      "version": "3.10.12"
    }
  },
  "nbformat": 4,
  "nbformat_minor": 4
}